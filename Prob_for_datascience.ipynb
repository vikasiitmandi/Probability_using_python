{
  "nbformat": 4,
  "nbformat_minor": 0,
  "metadata": {
    "colab": {
      "provenance": []
    },
    "kernelspec": {
      "name": "python3",
      "display_name": "Python 3"
    },
    "language_info": {
      "name": "python"
    }
  },
  "cells": [
    {
      "cell_type": "markdown",
      "source": [
        "Q1. You are given a diabetes.csv data file that contains information about a person's age, gender, \n",
        "and whether they have diabetes or not. Your task is to implement Bayes' Theorem in Python to \n",
        "predict the probability of a person having diabetes based on their age and gender.\n",
        "\n",
        "a) Load the dataset into a pandas dataframe and display the first 5 rows to get an idea of the \n",
        "data.\n",
        "\n",
        "b) Calculate the prior probability of having diabetes and not having diabetes from the \n",
        "dataset.\n",
        "\n",
        "c) Write a function to calculate the conditional probability of having diabetes given a \n",
        "person's age and gender.\n",
        "\n",
        "d) Write a function to calculate the posterior probability of a person having diabetes based \n",
        "on their age and gender by using Bayes' Theorem.\n",
        "\n",
        "e) Test your implementation by computing the posterior probability of a person having \n",
        "diabetes based on their age and gender for given test cases:\n",
        "\n",
        "i. age = 30, gender = 'Female'\n",
        "\n",
        "ii. age = 30, gender = 'Male'\n",
        "\n",
        "iii. age = 50, gender = 'Male'\n",
        "\n",
        "iv. age = 70, gender = 'Male'.\n",
        "\n",
        "v. Age = 80, gender = 'Female'.\n"
      ],
      "metadata": {
        "id": "zj5HILQCoFbf"
      }
    },
    {
      "cell_type": "code",
      "execution_count": 1,
      "metadata": {
        "colab": {
          "base_uri": "https://localhost:8080/"
        },
        "id": "a9iFw30Najrv",
        "outputId": "a1c7f35b-6465-4d5e-9f9f-a629bf3f65aa"
      },
      "outputs": [
        {
          "output_type": "stream",
          "name": "stdout",
          "text": [
            "   age  gender  diabetes\n",
            "0   52  Female         1\n",
            "1   42  Female         0\n",
            "2   63    Male         1\n",
            "3   73    Male         1\n",
            "4   50    Male         1\n"
          ]
        }
      ],
      "source": [
        "import pandas as pd\n",
        "\n",
        "#part (a)\n",
        "# Load the dataset\n",
        "df = pd.read_csv('/content/diabetes.csv')\n",
        "\n",
        "# Display the first 5 rows\n",
        "print(df.head())"
      ]
    },
    {
      "cell_type": "code",
      "source": [
        "df"
      ],
      "metadata": {
        "colab": {
          "base_uri": "https://localhost:8080/",
          "height": 423
        },
        "id": "Rd6K93i4a6ct",
        "outputId": "ea26f9f6-3a76-4732-87ec-429b23927eec"
      },
      "execution_count": 2,
      "outputs": [
        {
          "output_type": "execute_result",
          "data": {
            "text/plain": [
              "      age  gender  diabetes\n",
              "0      52  Female         1\n",
              "1      42  Female         0\n",
              "2      63    Male         1\n",
              "3      73    Male         1\n",
              "4      50    Male         1\n",
              "...   ...     ...       ...\n",
              "9995   58    Male         1\n",
              "9996   32    Male         0\n",
              "9997   34    Male         0\n",
              "9998   75    Male         0\n",
              "9999   58  Female         1\n",
              "\n",
              "[10000 rows x 3 columns]"
            ],
            "text/html": [
              "\n",
              "  <div id=\"df-3f896cc6-dbb9-47de-a5be-9fa92c315afd\">\n",
              "    <div class=\"colab-df-container\">\n",
              "      <div>\n",
              "<style scoped>\n",
              "    .dataframe tbody tr th:only-of-type {\n",
              "        vertical-align: middle;\n",
              "    }\n",
              "\n",
              "    .dataframe tbody tr th {\n",
              "        vertical-align: top;\n",
              "    }\n",
              "\n",
              "    .dataframe thead th {\n",
              "        text-align: right;\n",
              "    }\n",
              "</style>\n",
              "<table border=\"1\" class=\"dataframe\">\n",
              "  <thead>\n",
              "    <tr style=\"text-align: right;\">\n",
              "      <th></th>\n",
              "      <th>age</th>\n",
              "      <th>gender</th>\n",
              "      <th>diabetes</th>\n",
              "    </tr>\n",
              "  </thead>\n",
              "  <tbody>\n",
              "    <tr>\n",
              "      <th>0</th>\n",
              "      <td>52</td>\n",
              "      <td>Female</td>\n",
              "      <td>1</td>\n",
              "    </tr>\n",
              "    <tr>\n",
              "      <th>1</th>\n",
              "      <td>42</td>\n",
              "      <td>Female</td>\n",
              "      <td>0</td>\n",
              "    </tr>\n",
              "    <tr>\n",
              "      <th>2</th>\n",
              "      <td>63</td>\n",
              "      <td>Male</td>\n",
              "      <td>1</td>\n",
              "    </tr>\n",
              "    <tr>\n",
              "      <th>3</th>\n",
              "      <td>73</td>\n",
              "      <td>Male</td>\n",
              "      <td>1</td>\n",
              "    </tr>\n",
              "    <tr>\n",
              "      <th>4</th>\n",
              "      <td>50</td>\n",
              "      <td>Male</td>\n",
              "      <td>1</td>\n",
              "    </tr>\n",
              "    <tr>\n",
              "      <th>...</th>\n",
              "      <td>...</td>\n",
              "      <td>...</td>\n",
              "      <td>...</td>\n",
              "    </tr>\n",
              "    <tr>\n",
              "      <th>9995</th>\n",
              "      <td>58</td>\n",
              "      <td>Male</td>\n",
              "      <td>1</td>\n",
              "    </tr>\n",
              "    <tr>\n",
              "      <th>9996</th>\n",
              "      <td>32</td>\n",
              "      <td>Male</td>\n",
              "      <td>0</td>\n",
              "    </tr>\n",
              "    <tr>\n",
              "      <th>9997</th>\n",
              "      <td>34</td>\n",
              "      <td>Male</td>\n",
              "      <td>0</td>\n",
              "    </tr>\n",
              "    <tr>\n",
              "      <th>9998</th>\n",
              "      <td>75</td>\n",
              "      <td>Male</td>\n",
              "      <td>0</td>\n",
              "    </tr>\n",
              "    <tr>\n",
              "      <th>9999</th>\n",
              "      <td>58</td>\n",
              "      <td>Female</td>\n",
              "      <td>1</td>\n",
              "    </tr>\n",
              "  </tbody>\n",
              "</table>\n",
              "<p>10000 rows × 3 columns</p>\n",
              "</div>\n",
              "      <button class=\"colab-df-convert\" onclick=\"convertToInteractive('df-3f896cc6-dbb9-47de-a5be-9fa92c315afd')\"\n",
              "              title=\"Convert this dataframe to an interactive table.\"\n",
              "              style=\"display:none;\">\n",
              "        \n",
              "  <svg xmlns=\"http://www.w3.org/2000/svg\" height=\"24px\"viewBox=\"0 0 24 24\"\n",
              "       width=\"24px\">\n",
              "    <path d=\"M0 0h24v24H0V0z\" fill=\"none\"/>\n",
              "    <path d=\"M18.56 5.44l.94 2.06.94-2.06 2.06-.94-2.06-.94-.94-2.06-.94 2.06-2.06.94zm-11 1L8.5 8.5l.94-2.06 2.06-.94-2.06-.94L8.5 2.5l-.94 2.06-2.06.94zm10 10l.94 2.06.94-2.06 2.06-.94-2.06-.94-.94-2.06-.94 2.06-2.06.94z\"/><path d=\"M17.41 7.96l-1.37-1.37c-.4-.4-.92-.59-1.43-.59-.52 0-1.04.2-1.43.59L10.3 9.45l-7.72 7.72c-.78.78-.78 2.05 0 2.83L4 21.41c.39.39.9.59 1.41.59.51 0 1.02-.2 1.41-.59l7.78-7.78 2.81-2.81c.8-.78.8-2.07 0-2.86zM5.41 20L4 18.59l7.72-7.72 1.47 1.35L5.41 20z\"/>\n",
              "  </svg>\n",
              "      </button>\n",
              "      \n",
              "  <style>\n",
              "    .colab-df-container {\n",
              "      display:flex;\n",
              "      flex-wrap:wrap;\n",
              "      gap: 12px;\n",
              "    }\n",
              "\n",
              "    .colab-df-convert {\n",
              "      background-color: #E8F0FE;\n",
              "      border: none;\n",
              "      border-radius: 50%;\n",
              "      cursor: pointer;\n",
              "      display: none;\n",
              "      fill: #1967D2;\n",
              "      height: 32px;\n",
              "      padding: 0 0 0 0;\n",
              "      width: 32px;\n",
              "    }\n",
              "\n",
              "    .colab-df-convert:hover {\n",
              "      background-color: #E2EBFA;\n",
              "      box-shadow: 0px 1px 2px rgba(60, 64, 67, 0.3), 0px 1px 3px 1px rgba(60, 64, 67, 0.15);\n",
              "      fill: #174EA6;\n",
              "    }\n",
              "\n",
              "    [theme=dark] .colab-df-convert {\n",
              "      background-color: #3B4455;\n",
              "      fill: #D2E3FC;\n",
              "    }\n",
              "\n",
              "    [theme=dark] .colab-df-convert:hover {\n",
              "      background-color: #434B5C;\n",
              "      box-shadow: 0px 1px 3px 1px rgba(0, 0, 0, 0.15);\n",
              "      filter: drop-shadow(0px 1px 2px rgba(0, 0, 0, 0.3));\n",
              "      fill: #FFFFFF;\n",
              "    }\n",
              "  </style>\n",
              "\n",
              "      <script>\n",
              "        const buttonEl =\n",
              "          document.querySelector('#df-3f896cc6-dbb9-47de-a5be-9fa92c315afd button.colab-df-convert');\n",
              "        buttonEl.style.display =\n",
              "          google.colab.kernel.accessAllowed ? 'block' : 'none';\n",
              "\n",
              "        async function convertToInteractive(key) {\n",
              "          const element = document.querySelector('#df-3f896cc6-dbb9-47de-a5be-9fa92c315afd');\n",
              "          const dataTable =\n",
              "            await google.colab.kernel.invokeFunction('convertToInteractive',\n",
              "                                                     [key], {});\n",
              "          if (!dataTable) return;\n",
              "\n",
              "          const docLinkHtml = 'Like what you see? Visit the ' +\n",
              "            '<a target=\"_blank\" href=https://colab.research.google.com/notebooks/data_table.ipynb>data table notebook</a>'\n",
              "            + ' to learn more about interactive tables.';\n",
              "          element.innerHTML = '';\n",
              "          dataTable['output_type'] = 'display_data';\n",
              "          await google.colab.output.renderOutput(dataTable, element);\n",
              "          const docLink = document.createElement('div');\n",
              "          docLink.innerHTML = docLinkHtml;\n",
              "          element.appendChild(docLink);\n",
              "        }\n",
              "      </script>\n",
              "    </div>\n",
              "  </div>\n",
              "  "
            ]
          },
          "metadata": {},
          "execution_count": 2
        }
      ]
    },
    {
      "cell_type": "code",
      "source": [
        "#part(b)\n",
        "# Calculate the prior probability of having diabetes and not having diabetes\n",
        "p_diabetes = df['diabetes'].mean()\n",
        "p_not_diabetes = 1 - p_diabetes\n",
        "p_diabetes"
      ],
      "metadata": {
        "colab": {
          "base_uri": "https://localhost:8080/"
        },
        "id": "87_sgf2ca6-1",
        "outputId": "eae9258d-9b3e-4422-d174-79e74ac9d6bc"
      },
      "execution_count": 10,
      "outputs": [
        {
          "output_type": "execute_result",
          "data": {
            "text/plain": [
              "0.553"
            ]
          },
          "metadata": {},
          "execution_count": 10
        }
      ]
    },
    {
      "cell_type": "code",
      "source": [
        "#part (c)\n",
        "# Calculate the conditional probability of having diabetes given age and gender\n",
        "def conditional_prob(age, gender):\n",
        "    df_filtered = df[(df['age'] == age) & (df['gender'] == gender)]\n",
        "    p_diabetes_given_age_gender = df_filtered['diabetes'].mean()\n",
        "    return p_diabetes_given_age_gender\n",
        "conditional_prob(52,'Male')"
      ],
      "metadata": {
        "colab": {
          "base_uri": "https://localhost:8080/"
        },
        "id": "8OrNTaE3bJXX",
        "outputId": "f7cce9a8-426b-49f0-9e1e-d6a271b4874f"
      },
      "execution_count": 15,
      "outputs": [
        {
          "output_type": "execute_result",
          "data": {
            "text/plain": [
              "0.5675675675675675"
            ]
          },
          "metadata": {},
          "execution_count": 15
        }
      ]
    },
    {
      "cell_type": "code",
      "source": [
        "#part (d)\n",
        "# Use Bayes' Theorem to calculate the posterior probability of having diabetes\n",
        "def bayes_prob(age, gender):\n",
        "    p_age_gender = df[(df['age'] == age) & (df['gender'] == gender)].count()[0] / len(df)\n",
        "    p_diabetes_given_age_gender = conditional_prob(age, gender)\n",
        "    return (p_diabetes_given_age_gender * p_age_gender) / p_diabetes"
      ],
      "metadata": {
        "id": "OajCXfQQb8OK"
      },
      "execution_count": 16,
      "outputs": []
    },
    {
      "cell_type": "code",
      "source": [
        "bayes_prob(52,'Female')"
      ],
      "metadata": {
        "colab": {
          "base_uri": "https://localhost:8080/"
        },
        "id": "VuLFLOBWeMRU",
        "outputId": "f9e338e1-aec7-486c-ed20-7fe499f0f5c2"
      },
      "execution_count": 27,
      "outputs": [
        {
          "output_type": "execute_result",
          "data": {
            "text/plain": [
              "0.00867992766726944"
            ]
          },
          "metadata": {},
          "execution_count": 27
        }
      ]
    },
    {
      "cell_type": "code",
      "source": [
        "#part (e)\n",
        "# Test the implementation\n",
        "test_cases = [(30, 'Female'), (30, 'Male'), (50, 'Male'), (70, 'Male'), (80, 'Female')]\n",
        "for age, gender in test_cases:\n",
        "    print(f\"The probability of a {age}-year-old {gender} having diabetes is: {bayes_prob(age, gender):.4f}\")\n"
      ],
      "metadata": {
        "colab": {
          "base_uri": "https://localhost:8080/"
        },
        "id": "3oVQrg9Hfgxt",
        "outputId": "69f6fcdd-fe57-4ca3-b8d8-432f91219ef1"
      },
      "execution_count": 28,
      "outputs": [
        {
          "output_type": "stream",
          "name": "stdout",
          "text": [
            "The probability of a 30-year-old Female having diabetes is: 0.0067\n",
            "The probability of a 30-year-old Male having diabetes is: 0.0058\n",
            "The probability of a 50-year-old Male having diabetes is: 0.0076\n",
            "The probability of a 70-year-old Male having diabetes is: 0.0103\n",
            "The probability of a 80-year-old Female having diabetes is: 0.0141\n"
          ]
        }
      ]
    },
    {
      "cell_type": "markdown",
      "source": [
        "Q2. A company produces chocolate bars with a target weight of 50 grams. However, due to \n",
        "manufacturing variations, the actual weight of the chocolate bars can deviate from the target. The \n",
        "company wants to study the distribution of the weight of its chocolate bars to ensure that the \n",
        "majority of the bars fall within an acceptable range.\n",
        "Using Python, perform the following tasks:\n",
        "\n",
        "a) Assume that the chocolate weight follows a normal distribution with a mean of 50 \n",
        "grams and a standard deviation of 2 grams. Generate a sample of 1000 random \n",
        "numbers that represent the weight of the chocolate bars.\n",
        "\n",
        "b) Plot a histogram of the sample to visualize the distribution of the weights.\n",
        "\n",
        "c) Calculate the mean and standard deviation of the sample.\n",
        "\n",
        "d) Calculate the percentage of chocolate bars that weight between one, two and three \n",
        "standard deviations from the target weight.\n",
        "\n",
        "e) From generated samples calculate the probability that a chocolate bar weighs less \n",
        "than 45 grams or greater than 55 grams.\n"
      ],
      "metadata": {
        "id": "UVAI0AbcoYYQ"
      }
    },
    {
      "cell_type": "code",
      "source": [
        "import numpy as np\n",
        "import matplotlib.pyplot as plt\n",
        "\n",
        "# Set the parameters for the normal distribution\n",
        "mu = 50\n",
        "sigma = 2\n",
        "\n",
        "#part (a)\n",
        "# Generate a sample of 1000 random numbers from a normal distribution\n",
        "sample = np.random.normal(mu, sigma, size=1000)"
      ],
      "metadata": {
        "id": "da5z1EWbgvgC"
      },
      "execution_count": 29,
      "outputs": []
    },
    {
      "cell_type": "code",
      "source": [
        "#part (b)\n",
        "# Plot a histogram of the sample\n",
        "plt.hist(sample, bins=30)\n",
        "plt.xlabel('Weight (grams)')\n",
        "plt.ylabel('Frequency')\n",
        "plt.title('Distribution of Chocolate Bar Weights')\n",
        "plt.show()\n"
      ],
      "metadata": {
        "colab": {
          "base_uri": "https://localhost:8080/",
          "height": 472
        },
        "id": "ljC-rE2wo3QS",
        "outputId": "2e2227b9-a9b4-4ac0-9ffd-d05be6bc057c"
      },
      "execution_count": 33,
      "outputs": [
        {
          "output_type": "display_data",
          "data": {
            "text/plain": [
              "<Figure size 640x480 with 1 Axes>"
            ],
            "image/png": "[encoded data removed]"
          },
          "metadata": {}
        }
      ]
    },
    {
      "cell_type": "code",
      "source": [
        "#part (c)\n",
        "# Calculate the mean and standard deviation of the sample\n",
        "sample_mean = np.mean(sample)\n",
        "sample_std = np.std(sample)\n",
        "\n",
        "print(\"Sample mean:\", sample_mean)\n",
        "print(\"Sample standard deviation:\", sample_std)"
      ],
      "metadata": {
        "colab": {
          "base_uri": "https://localhost:8080/"
        },
        "id": "L4d6rdymo4KS",
        "outputId": "ead2b151-4054-49fb-b3fa-3b113feac932"
      },
      "execution_count": 34,
      "outputs": [
        {
          "output_type": "stream",
          "name": "stdout",
          "text": [
            "Sample mean: 49.95527313596934\n",
            "Sample standard deviation: 2.007656129312156\n"
          ]
        }
      ]
    },
    {
      "cell_type": "code",
      "source": [
        "# Calculate the percentage of chocolate bars that weight between one standard deviation\n",
        "within_one_std = np.sum((sample > mu-sigma) & (sample < mu+sigma)) / len(sample) * 100\n",
        "print(\"Percentage within one standard deviation:\", within_one_std)"
      ],
      "metadata": {
        "colab": {
          "base_uri": "https://localhost:8080/"
        },
        "id": "mEX8xD8mpYZS",
        "outputId": "02af5d36-92b5-4bf3-efba-17c4a70c5fbf"
      },
      "execution_count": 40,
      "outputs": [
        {
          "output_type": "stream",
          "name": "stdout",
          "text": [
            "Percentage within one standard deviation: 68.10000000000001\n"
          ]
        }
      ]
    },
    {
      "cell_type": "code",
      "source": [
        "# Calculate the percentage of chocolate bars that weight between two standard deviation\n",
        "within_two_std = np.sum((sample > mu-2*sigma) & (sample < mu+2*sigma)) / len(sample) * 100\n",
        "print(\"Percentage within two standard deviation:\", within_two_std)"
      ],
      "metadata": {
        "colab": {
          "base_uri": "https://localhost:8080/"
        },
        "id": "q5R76TQEpd1E",
        "outputId": "5ed0e663-3f3a-4864-ce3a-45b9d25910f9"
      },
      "execution_count": 36,
      "outputs": [
        {
          "output_type": "stream",
          "name": "stdout",
          "text": [
            "Percentage within two standard deviation: 95.6\n"
          ]
        }
      ]
    },
    {
      "cell_type": "code",
      "source": [
        "# Calculate the percentage of chocolate bars that weight between three standard deviation\n",
        "within_three_std = np.sum((sample > mu-3*sigma) & (sample < mu+3*sigma)) / len(sample) * 100\n",
        "print(\"Percentage within three standard deviation:\", within_three_std)"
      ],
      "metadata": {
        "colab": {
          "base_uri": "https://localhost:8080/"
        },
        "id": "dtXugQESpgtE",
        "outputId": "d2e91183-55c4-4c14-bd12-f09c58c44594"
      },
      "execution_count": 37,
      "outputs": [
        {
          "output_type": "stream",
          "name": "stdout",
          "text": [
            "Percentage within three standard deviation: 99.8\n"
          ]
        }
      ]
    },
    {
      "cell_type": "code",
      "source": [
        "#part (e)\n",
        "# Calculate the probability that a chocolate bar weighs less than 45 grams or greater than 55 grams\n",
        "less_than_45_greater_than_55 = np.sum((sample < 45) | (sample > 55) ) / len(sample)\n",
        "print(\"Probability of a chocolate bar weighing less than 45 grams or greater than 55 grams:\", less_than_45_greater_than_55)\n"
      ],
      "metadata": {
        "colab": {
          "base_uri": "https://localhost:8080/"
        },
        "id": "gfcgeTTBpjpV",
        "outputId": "a96e1915-d961-496c-f99b-97c89c899e72"
      },
      "execution_count": 38,
      "outputs": [
        {
          "output_type": "stream",
          "name": "stdout",
          "text": [
            "Probability of a chocolate bar weighing less than 45 grams or greater than 55 grams: 0.01\n"
          ]
        }
      ]
    },
    {
      "cell_type": "markdown",
      "source": [
        "Q3. A factory produces widgets whose weight follows a uniform distribution between 0.5 to 1.5 \n",
        "grams. The factory manager wants to know if the average weight of a batch of 1000 widgets is \n",
        "close to the expected weight of 1 gram, and if the distribution of the sample means follows the \n",
        "central limit theorem.\n",
        "Write a Python program that:\n",
        "\n",
        "a) Generates 10000 batches of 1000 widgets each and computes the mean of each batch.\n",
        "\n",
        "b) Plots a histogram of the sample means.\n",
        "c) Computes the sample mean and standard deviation of the sample means and compares \n",
        "them to the expected sample mean and standard deviation values under the uniform \n",
        "distribution respectively.\n",
        "\n",
        "d) Plot the histogram of sample means and a normal distribution’s pdf whose mean and \n",
        "standard deviation equal to expected sample mean and standard deviation values under \n",
        "the uniform distribution calculated in part (c).\n",
        "From the figure can we say that the sample \n",
        "means follows a normal distribution with mean and standard deviation equal to expected \n",
        "sample mean and expected sample deviation computed in part (c)."
      ],
      "metadata": {
        "id": "17HNAIrkrkOH"
      }
    },
    {
      "cell_type": "code",
      "source": [
        "import numpy as np\n",
        "import matplotlib.pyplot as plt\n",
        "\n",
        "# Define the parameters of the uniform distribution\n",
        "a = 0.5  # lower bound\n",
        "b = 1.5  # upper bound\n",
        "mu = (a + b) / 2  # expected value\n",
        "sigma = np.sqrt((b - a)**2 / 12)  # standard deviation"
      ],
      "metadata": {
        "id": "sFFfkBNvpm96"
      },
      "execution_count": 41,
      "outputs": []
    },
    {
      "cell_type": "code",
      "source": [
        "#Part(a)\n",
        "# Generate 1000 batches of 1000 widgets each, and compute the mean weight of each batch\n",
        "batch_size = 100\n",
        "num_batches = 10000\n",
        "batch_means = np.zeros(num_batches)\n",
        "for i in range(num_batches):\n",
        "    batch = np.random.uniform(a, b, size=batch_size)\n",
        "    batch_mean = np.mean(batch)\n",
        "    batch_means[i] = batch_mean"
      ],
      "metadata": {
        "id": "8-nxk42yskBQ"
      },
      "execution_count": 42,
      "outputs": []
    },
    {
      "cell_type": "code",
      "source": [
        "# Part (b)\n",
        "# Plot a histogram of the sample means, and overlay the normal distribution with the same mean and variance\n",
        "plt.figure()\n",
        "plt.hist(batch_means, bins=50, density=True, alpha=0.7, label='Sample Means')\n",
        "plt.show()"
      ],
      "metadata": {
        "colab": {
          "base_uri": "https://localhost:8080/",
          "height": 430
        },
        "id": "XU7jZNdZskQR",
        "outputId": "8bb7ce0f-f5c8-45e5-f4ac-ed99702e5a59"
      },
      "execution_count": 43,
      "outputs": [
        {
          "output_type": "display_data",
          "data": {
            "text/plain": [
              "<Figure size 640x480 with 1 Axes>"
            ],
            "image/png": "[encoded data removed]"
          },
          "metadata": {}
        }
      ]
    },
    {
      "cell_type": "code",
      "source": [
        "# Part (c)\n",
        "# Compute the sample mean and standard deviation of the sample means\n",
        "sample_mean = np.mean(batch_means)\n",
        "sample_std = np.std(batch_means)  "
      ],
      "metadata": {
        "id": "R_iSh1Ves2kN"
      },
      "execution_count": 44,
      "outputs": []
    },
    {
      "cell_type": "code",
      "source": [
        "# Compute the expected values under the uniform distribution and the central limit theorem\n",
        "expected_uniform_mean = mu\n",
        "expected_uniform_std = sigma / np.sqrt(batch_size)"
      ],
      "metadata": {
        "id": "yr9vUM-ts6XF"
      },
      "execution_count": 45,
      "outputs": []
    },
    {
      "cell_type": "code",
      "source": [
        "# Print the results\n",
        "print(f'Sample Mean: {sample_mean:.3f}, Expected Uniform Mean: {expected_uniform_mean:.3f}')\n",
        "print(f'Sample Std: {sample_std:.3f}, Expected Uniform Std: {expected_uniform_std:.3f}')\n"
      ],
      "metadata": {
        "colab": {
          "base_uri": "https://localhost:8080/"
        },
        "id": "hM1zaCn8s81S",
        "outputId": "bfdfefb8-d87a-45f5-e88a-56ff1a66e273"
      },
      "execution_count": 46,
      "outputs": [
        {
          "output_type": "stream",
          "name": "stdout",
          "text": [
            "Sample Mean: 1.000, Expected Uniform Mean: 1.000\n",
            "Sample Std: 0.029, Expected Uniform Std: 0.029\n"
          ]
        }
      ]
    },
    {
      "cell_type": "code",
      "source": [
        "#Part(d)\n",
        "plt.figure()\n",
        "plt.hist(batch_means, bins=50, density=True, alpha=0.7, label='Sample Means')\n",
        "x = np.linspace(mu - 3*expected_uniform_std, mu + 3*expected_uniform_std, 100)\n",
        "y = 1/(expected_uniform_std * np.sqrt(2 * np.pi)) * np.exp(-(x - mu)**2 / (2 * expected_uniform_std**2))\n",
        "plt.plot(x, y, 'r-', label='Normal Distribution')\n",
        "plt.legend()\n",
        "plt.show()"
      ],
      "metadata": {
        "colab": {
          "base_uri": "https://localhost:8080/",
          "height": 430
        },
        "id": "adL0G0ZktB28",
        "outputId": "48892f3f-7525-4e7c-ad84-8fe6d50c4054"
      },
      "execution_count": 47,
      "outputs": [
        {
          "output_type": "display_data",
          "data": {
            "text/plain": [
              "<Figure size 640x480 with 1 Axes>"
            ],
            "image/png": "[encoded data removed]"
          },
          "metadata": {}
        }
      ]
    },
    {
      "cell_type": "code",
      "source": [
        "expected_normal_mean = mu\n",
        "expected_normal_std = sigma / np.sqrt(batch_size)\n",
        "print(f'Expected Normal Mean: {expected_normal_mean:.3f}')\n",
        "print(f'Expected Normal Std: {expected_normal_std:.3f}')"
      ],
      "metadata": {
        "colab": {
          "base_uri": "https://localhost:8080/"
        },
        "id": "2V1oKXT4tEWA",
        "outputId": "f752261e-d39d-4d25-c9dd-efb8df040249"
      },
      "execution_count": 48,
      "outputs": [
        {
          "output_type": "stream",
          "name": "stdout",
          "text": [
            "Expected Normal Mean: 1.000\n",
            "Expected Normal Std: 0.029\n"
          ]
        }
      ]
    },
    {
      "cell_type": "code",
      "source": [],
      "metadata": {
        "id": "_yXeZtVFtGxQ"
      },
      "execution_count": null,
      "outputs": []
    }
  ]
}