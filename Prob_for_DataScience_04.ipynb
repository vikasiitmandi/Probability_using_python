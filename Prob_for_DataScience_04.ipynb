{
  "cells": [
    {
      "cell_type": "markdown",
      "metadata": {
        "id": "8VO4zzcWvi3H"
      },
      "source": [
        "# Python Practice"
      ]
    },
    {
      "cell_type": "code",
      "execution_count": null,
      "metadata": {
        "colab": {
          "base_uri": "https://localhost:8080/"
        },
        "id": "oJdYRqCRvoVE",
        "outputId": "e4fdbab2-6722-414a-f8ba-ffff21bf3984"
      },
      "outputs": [
        {
          "output_type": "stream",
          "name": "stdout",
          "text": [
            "[89 19 37 ...  7 20 30]\n",
            "4000\n"
          ]
        }
      ],
      "source": [
        "import numpy as np\n",
        "with open('/content/random_integer_data', 'r') as f:\n",
        "    data = f.read()\n",
        "\n",
        "rid = [int(i) for i in data.split()]\n",
        "print(np.array(rid))\n",
        "print(len(rid))\n"
      ]
    },
    {
      "cell_type": "markdown",
      "metadata": {
        "id": "LvUSLgJL2unx"
      },
      "source": [
        "1) Write a Python code and Find the sum of :\n",
        "\n",
        "a) First 100 numbers\n",
        "\n",
        "b) Last 100 numbers\n",
        "\n",
        "c) First 2000 numbers \n",
        "\n",
        "d) Last 2000 numbers \n",
        "\n",
        "e) ‘Sum’ and ‘mean’ of numbers in chunks of 100 numbers."
      ]
    },
    {
      "cell_type": "code",
      "execution_count": null,
      "metadata": {
        "id": "GsSHSF7jwoC0"
      },
      "outputs": [],
      "source": [
        "def sum(x,y):\n",
        "  sum=0\n",
        "  for i in range(x,y):\n",
        "    sum+=rid[i]\n",
        "  return sum"
      ]
    },
    {
      "cell_type": "code",
      "execution_count": null,
      "metadata": {
        "colab": {
          "base_uri": "https://localhost:8080/"
        },
        "id": "Qo-tUaZn5JjO",
        "outputId": "58fa111e-8729-408f-a0e2-c8a1bdaf22ad"
      },
      "outputs": [
        {
          "output_type": "stream",
          "name": "stdout",
          "text": [
            "4992\n",
            "4655\n",
            "98179\n",
            "98422\n"
          ]
        }
      ],
      "source": [
        "print(sum(0,100))\n",
        "print(sum(3900,4000))\n",
        "print(sum(0,2000))\n",
        "print(sum(2000,4000))"
      ]
    },
    {
      "cell_type": "code",
      "execution_count": null,
      "metadata": {
        "colab": {
          "base_uri": "https://localhost:8080/"
        },
        "id": "tIKgdsIfBpOM",
        "outputId": "ad65c699-98b1-44bf-cd40-87a4362bed66"
      },
      "outputs": [
        {
          "output_type": "stream",
          "name": "stdout",
          "text": [
            "('Sum', 5124, 'Mean', 51.24)\n"
          ]
        }
      ],
      "source": [
        "class Chunk_Sum_Mean:\n",
        "  def __init__(self, x, y):\n",
        "    self.x = x\n",
        "    self.y = y\n",
        "  \n",
        "  def Sum_mean(self):\n",
        "    sum=0\n",
        "    for i in range(self.x,self.y):\n",
        "      sum+=rid[i]\n",
        "    return (\"Sum\",sum,\"Mean\",sum / (self.y-self.x))\n",
        "\n",
        "\n",
        "  \n",
        "p=Chunk_Sum_Mean(200,300)\n",
        "print(p.Sum_mean())\n",
        "\n",
        "\n"
      ]
    },
    {
      "cell_type": "markdown",
      "metadata": {
        "id": "CeEz8qDfIs7v"
      },
      "source": [
        "2) Write a Python code to :\n",
        "\n",
        "a) Find the number of times number 89 is repeated\n",
        "\n",
        "b) Find the positions (can be called, line number in the file) where the number 89 is placed \n",
        "\n",
        "in the array. This would be a list numbers signifying positions.\n",
        "\n",
        "c) Find the number of times all the numbers are repeated.\n",
        "\n",
        "d) Find the number which is repeated the maximum number of times.\n"
      ]
    },
    {
      "cell_type": "code",
      "execution_count": null,
      "metadata": {
        "id": "Ps_ayQVDFCTZ"
      },
      "outputs": [],
      "source": [
        "def Num_tim_repeated(x):\n",
        "  count=0\n",
        "  for i in rid:\n",
        "    if i==x:\n",
        "      count+=1\n",
        "  return (count)"
      ]
    },
    {
      "cell_type": "code",
      "execution_count": null,
      "metadata": {
        "colab": {
          "base_uri": "https://localhost:8080/"
        },
        "id": "zcTn5QWJKEFF",
        "outputId": "7668971f-5514-461e-8432-79dce0dd6935"
      },
      "outputs": [
        {
          "output_type": "execute_result",
          "data": {
            "text/plain": [
              "44"
            ]
          },
          "metadata": {},
          "execution_count": 7
        }
      ],
      "source": [
        "Num_tim_repeated(89)"
      ]
    },
    {
      "cell_type": "code",
      "execution_count": null,
      "metadata": {
        "colab": {
          "base_uri": "https://localhost:8080/",
          "height": 423
        },
        "id": "YXprDCqUNHM8",
        "outputId": "3a25252a-9bab-459e-c6c8-cdb025420a7d"
      },
      "outputs": [
        {
          "output_type": "execute_result",
          "data": {
            "text/plain": [
              "    Number of times repeated\n",
              "89                        44\n",
              "19                        37\n",
              "37                        43\n",
              "78                        38\n",
              "39                        43\n",
              "..                       ...\n",
              "43                        45\n",
              "51                        33\n",
              "63                        41\n",
              "77                        36\n",
              "45                        39\n",
              "\n",
              "[100 rows x 1 columns]"
            ],
            "text/html": [
              "\n",
              "  <div id=\"df-f478182a-dab0-46a6-aac8-a0c62a017d7b\">\n",
              "    <div class=\"colab-df-container\">\n",
              "      <div>\n",
              "<style scoped>\n",
              "    .dataframe tbody tr th:only-of-type {\n",
              "        vertical-align: middle;\n",
              "    }\n",
              "\n",
              "    .dataframe tbody tr th {\n",
              "        vertical-align: top;\n",
              "    }\n",
              "\n",
              "    .dataframe thead th {\n",
              "        text-align: right;\n",
              "    }\n",
              "</style>\n",
              "<table border=\"1\" class=\"dataframe\">\n",
              "  <thead>\n",
              "    <tr style=\"text-align: right;\">\n",
              "      <th></th>\n",
              "      <th>Number of times repeated</th>\n",
              "    </tr>\n",
              "  </thead>\n",
              "  <tbody>\n",
              "    <tr>\n",
              "      <th>89</th>\n",
              "      <td>44</td>\n",
              "    </tr>\n",
              "    <tr>\n",
              "      <th>19</th>\n",
              "      <td>37</td>\n",
              "    </tr>\n",
              "    <tr>\n",
              "      <th>37</th>\n",
              "      <td>43</td>\n",
              "    </tr>\n",
              "    <tr>\n",
              "      <th>78</th>\n",
              "      <td>38</td>\n",
              "    </tr>\n",
              "    <tr>\n",
              "      <th>39</th>\n",
              "      <td>43</td>\n",
              "    </tr>\n",
              "    <tr>\n",
              "      <th>...</th>\n",
              "      <td>...</td>\n",
              "    </tr>\n",
              "    <tr>\n",
              "      <th>43</th>\n",
              "      <td>45</td>\n",
              "    </tr>\n",
              "    <tr>\n",
              "      <th>51</th>\n",
              "      <td>33</td>\n",
              "    </tr>\n",
              "    <tr>\n",
              "      <th>63</th>\n",
              "      <td>41</td>\n",
              "    </tr>\n",
              "    <tr>\n",
              "      <th>77</th>\n",
              "      <td>36</td>\n",
              "    </tr>\n",
              "    <tr>\n",
              "      <th>45</th>\n",
              "      <td>39</td>\n",
              "    </tr>\n",
              "  </tbody>\n",
              "</table>\n",
              "<p>100 rows × 1 columns</p>\n",
              "</div>\n",
              "      <button class=\"colab-df-convert\" onclick=\"convertToInteractive('df-f478182a-dab0-46a6-aac8-a0c62a017d7b')\"\n",
              "              title=\"Convert this dataframe to an interactive table.\"\n",
              "              style=\"display:none;\">\n",
              "        \n",
              "  <svg xmlns=\"http://www.w3.org/2000/svg\" height=\"24px\"viewBox=\"0 0 24 24\"\n",
              "       width=\"24px\">\n",
              "    <path d=\"M0 0h24v24H0V0z\" fill=\"none\"/>\n",
              "    <path d=\"M18.56 5.44l.94 2.06.94-2.06 2.06-.94-2.06-.94-.94-2.06-.94 2.06-2.06.94zm-11 1L8.5 8.5l.94-2.06 2.06-.94-2.06-.94L8.5 2.5l-.94 2.06-2.06.94zm10 10l.94 2.06.94-2.06 2.06-.94-2.06-.94-.94-2.06-.94 2.06-2.06.94z\"/><path d=\"M17.41 7.96l-1.37-1.37c-.4-.4-.92-.59-1.43-.59-.52 0-1.04.2-1.43.59L10.3 9.45l-7.72 7.72c-.78.78-.78 2.05 0 2.83L4 21.41c.39.39.9.59 1.41.59.51 0 1.02-.2 1.41-.59l7.78-7.78 2.81-2.81c.8-.78.8-2.07 0-2.86zM5.41 20L4 18.59l7.72-7.72 1.47 1.35L5.41 20z\"/>\n",
              "  </svg>\n",
              "      </button>\n",
              "      \n",
              "  <style>\n",
              "    .colab-df-container {\n",
              "      display:flex;\n",
              "      flex-wrap:wrap;\n",
              "      gap: 12px;\n",
              "    }\n",
              "\n",
              "    .colab-df-convert {\n",
              "      background-color: #E8F0FE;\n",
              "      border: none;\n",
              "      border-radius: 50%;\n",
              "      cursor: pointer;\n",
              "      display: none;\n",
              "      fill: #1967D2;\n",
              "      height: 32px;\n",
              "      padding: 0 0 0 0;\n",
              "      width: 32px;\n",
              "    }\n",
              "\n",
              "    .colab-df-convert:hover {\n",
              "      background-color: #E2EBFA;\n",
              "      box-shadow: 0px 1px 2px rgba(60, 64, 67, 0.3), 0px 1px 3px 1px rgba(60, 64, 67, 0.15);\n",
              "      fill: #174EA6;\n",
              "    }\n",
              "\n",
              "    [theme=dark] .colab-df-convert {\n",
              "      background-color: #3B4455;\n",
              "      fill: #D2E3FC;\n",
              "    }\n",
              "\n",
              "    [theme=dark] .colab-df-convert:hover {\n",
              "      background-color: #434B5C;\n",
              "      box-shadow: 0px 1px 3px 1px rgba(0, 0, 0, 0.15);\n",
              "      filter: drop-shadow(0px 1px 2px rgba(0, 0, 0, 0.3));\n",
              "      fill: #FFFFFF;\n",
              "    }\n",
              "  </style>\n",
              "\n",
              "      <script>\n",
              "        const buttonEl =\n",
              "          document.querySelector('#df-f478182a-dab0-46a6-aac8-a0c62a017d7b button.colab-df-convert');\n",
              "        buttonEl.style.display =\n",
              "          google.colab.kernel.accessAllowed ? 'block' : 'none';\n",
              "\n",
              "        async function convertToInteractive(key) {\n",
              "          const element = document.querySelector('#df-f478182a-dab0-46a6-aac8-a0c62a017d7b');\n",
              "          const dataTable =\n",
              "            await google.colab.kernel.invokeFunction('convertToInteractive',\n",
              "                                                     [key], {});\n",
              "          if (!dataTable) return;\n",
              "\n",
              "          const docLinkHtml = 'Like what you see? Visit the ' +\n",
              "            '<a target=\"_blank\" href=https://colab.research.google.com/notebooks/data_table.ipynb>data table notebook</a>'\n",
              "            + ' to learn more about interactive tables.';\n",
              "          element.innerHTML = '';\n",
              "          dataTable['output_type'] = 'display_data';\n",
              "          await google.colab.output.renderOutput(dataTable, element);\n",
              "          const docLink = document.createElement('div');\n",
              "          docLink.innerHTML = docLinkHtml;\n",
              "          element.appendChild(docLink);\n",
              "        }\n",
              "      </script>\n",
              "    </div>\n",
              "  </div>\n",
              "  "
            ]
          },
          "metadata": {},
          "execution_count": 8
        }
      ],
      "source": [
        "import pandas as pd\n",
        "from collections import Counter\n",
        "word_counts = Counter(rid)\n",
        "df=pd.DataFrame.from_dict(word_counts,orient ='index')\n",
        "df.columns = ['Number of times repeated']\n",
        "df"
      ]
    },
    {
      "cell_type": "code",
      "execution_count": null,
      "metadata": {
        "colab": {
          "base_uri": "https://localhost:8080/",
          "height": 423
        },
        "id": "5Eqs-belx-lR",
        "outputId": "30a1481d-a333-4e6e-a6b8-e9bb58317c5a"
      },
      "outputs": [
        {
          "output_type": "execute_result",
          "data": {
            "text/plain": [
              "    Number of times repeated\n",
              "0                         38\n",
              "1                         38\n",
              "2                         50\n",
              "3                         29\n",
              "4                         40\n",
              "..                       ...\n",
              "95                        33\n",
              "96                        41\n",
              "97                        35\n",
              "98                        29\n",
              "99                        34\n",
              "\n",
              "[100 rows x 1 columns]"
            ],
            "text/html": [
              "\n",
              "  <div id=\"df-2b4bb79a-2f0a-4149-a03c-38bdcdd0c98b\">\n",
              "    <div class=\"colab-df-container\">\n",
              "      <div>\n",
              "<style scoped>\n",
              "    .dataframe tbody tr th:only-of-type {\n",
              "        vertical-align: middle;\n",
              "    }\n",
              "\n",
              "    .dataframe tbody tr th {\n",
              "        vertical-align: top;\n",
              "    }\n",
              "\n",
              "    .dataframe thead th {\n",
              "        text-align: right;\n",
              "    }\n",
              "</style>\n",
              "<table border=\"1\" class=\"dataframe\">\n",
              "  <thead>\n",
              "    <tr style=\"text-align: right;\">\n",
              "      <th></th>\n",
              "      <th>Number of times repeated</th>\n",
              "    </tr>\n",
              "  </thead>\n",
              "  <tbody>\n",
              "    <tr>\n",
              "      <th>0</th>\n",
              "      <td>38</td>\n",
              "    </tr>\n",
              "    <tr>\n",
              "      <th>1</th>\n",
              "      <td>38</td>\n",
              "    </tr>\n",
              "    <tr>\n",
              "      <th>2</th>\n",
              "      <td>50</td>\n",
              "    </tr>\n",
              "    <tr>\n",
              "      <th>3</th>\n",
              "      <td>29</td>\n",
              "    </tr>\n",
              "    <tr>\n",
              "      <th>4</th>\n",
              "      <td>40</td>\n",
              "    </tr>\n",
              "    <tr>\n",
              "      <th>...</th>\n",
              "      <td>...</td>\n",
              "    </tr>\n",
              "    <tr>\n",
              "      <th>95</th>\n",
              "      <td>33</td>\n",
              "    </tr>\n",
              "    <tr>\n",
              "      <th>96</th>\n",
              "      <td>41</td>\n",
              "    </tr>\n",
              "    <tr>\n",
              "      <th>97</th>\n",
              "      <td>35</td>\n",
              "    </tr>\n",
              "    <tr>\n",
              "      <th>98</th>\n",
              "      <td>29</td>\n",
              "    </tr>\n",
              "    <tr>\n",
              "      <th>99</th>\n",
              "      <td>34</td>\n",
              "    </tr>\n",
              "  </tbody>\n",
              "</table>\n",
              "<p>100 rows × 1 columns</p>\n",
              "</div>\n",
              "      <button class=\"colab-df-convert\" onclick=\"convertToInteractive('df-2b4bb79a-2f0a-4149-a03c-38bdcdd0c98b')\"\n",
              "              title=\"Convert this dataframe to an interactive table.\"\n",
              "              style=\"display:none;\">\n",
              "        \n",
              "  <svg xmlns=\"http://www.w3.org/2000/svg\" height=\"24px\"viewBox=\"0 0 24 24\"\n",
              "       width=\"24px\">\n",
              "    <path d=\"M0 0h24v24H0V0z\" fill=\"none\"/>\n",
              "    <path d=\"M18.56 5.44l.94 2.06.94-2.06 2.06-.94-2.06-.94-.94-2.06-.94 2.06-2.06.94zm-11 1L8.5 8.5l.94-2.06 2.06-.94-2.06-.94L8.5 2.5l-.94 2.06-2.06.94zm10 10l.94 2.06.94-2.06 2.06-.94-2.06-.94-.94-2.06-.94 2.06-2.06.94z\"/><path d=\"M17.41 7.96l-1.37-1.37c-.4-.4-.92-.59-1.43-.59-.52 0-1.04.2-1.43.59L10.3 9.45l-7.72 7.72c-.78.78-.78 2.05 0 2.83L4 21.41c.39.39.9.59 1.41.59.51 0 1.02-.2 1.41-.59l7.78-7.78 2.81-2.81c.8-.78.8-2.07 0-2.86zM5.41 20L4 18.59l7.72-7.72 1.47 1.35L5.41 20z\"/>\n",
              "  </svg>\n",
              "      </button>\n",
              "      \n",
              "  <style>\n",
              "    .colab-df-container {\n",
              "      display:flex;\n",
              "      flex-wrap:wrap;\n",
              "      gap: 12px;\n",
              "    }\n",
              "\n",
              "    .colab-df-convert {\n",
              "      background-color: #E8F0FE;\n",
              "      border: none;\n",
              "      border-radius: 50%;\n",
              "      cursor: pointer;\n",
              "      display: none;\n",
              "      fill: #1967D2;\n",
              "      height: 32px;\n",
              "      padding: 0 0 0 0;\n",
              "      width: 32px;\n",
              "    }\n",
              "\n",
              "    .colab-df-convert:hover {\n",
              "      background-color: #E2EBFA;\n",
              "      box-shadow: 0px 1px 2px rgba(60, 64, 67, 0.3), 0px 1px 3px 1px rgba(60, 64, 67, 0.15);\n",
              "      fill: #174EA6;\n",
              "    }\n",
              "\n",
              "    [theme=dark] .colab-df-convert {\n",
              "      background-color: #3B4455;\n",
              "      fill: #D2E3FC;\n",
              "    }\n",
              "\n",
              "    [theme=dark] .colab-df-convert:hover {\n",
              "      background-color: #434B5C;\n",
              "      box-shadow: 0px 1px 3px 1px rgba(0, 0, 0, 0.15);\n",
              "      filter: drop-shadow(0px 1px 2px rgba(0, 0, 0, 0.3));\n",
              "      fill: #FFFFFF;\n",
              "    }\n",
              "  </style>\n",
              "\n",
              "      <script>\n",
              "        const buttonEl =\n",
              "          document.querySelector('#df-2b4bb79a-2f0a-4149-a03c-38bdcdd0c98b button.colab-df-convert');\n",
              "        buttonEl.style.display =\n",
              "          google.colab.kernel.accessAllowed ? 'block' : 'none';\n",
              "\n",
              "        async function convertToInteractive(key) {\n",
              "          const element = document.querySelector('#df-2b4bb79a-2f0a-4149-a03c-38bdcdd0c98b');\n",
              "          const dataTable =\n",
              "            await google.colab.kernel.invokeFunction('convertToInteractive',\n",
              "                                                     [key], {});\n",
              "          if (!dataTable) return;\n",
              "\n",
              "          const docLinkHtml = 'Like what you see? Visit the ' +\n",
              "            '<a target=\"_blank\" href=https://colab.research.google.com/notebooks/data_table.ipynb>data table notebook</a>'\n",
              "            + ' to learn more about interactive tables.';\n",
              "          element.innerHTML = '';\n",
              "          dataTable['output_type'] = 'display_data';\n",
              "          await google.colab.output.renderOutput(dataTable, element);\n",
              "          const docLink = document.createElement('div');\n",
              "          docLink.innerHTML = docLinkHtml;\n",
              "          element.appendChild(docLink);\n",
              "        }\n",
              "      </script>\n",
              "    </div>\n",
              "  </div>\n",
              "  "
            ]
          },
          "metadata": {},
          "execution_count": 9
        }
      ],
      "source": [
        "a=[0]*(len(rid)+1)\n",
        "for i in rid:\n",
        "  a[i]+=1\n",
        "num=[i for i in a if i!=0 ]\n",
        "df = pd.DataFrame(num)\n",
        "df.columns=['Number of times repeated']\n",
        "df\n"
      ]
    },
    {
      "cell_type": "code",
      "execution_count": null,
      "metadata": {
        "colab": {
          "base_uri": "https://localhost:8080/"
        },
        "id": "Bd_PdHdnUYAq",
        "outputId": "300fc2c1-1e36-4139-e096-542a9b989b15"
      },
      "outputs": [
        {
          "output_type": "execute_result",
          "data": {
            "text/plain": [
              "25"
            ]
          },
          "metadata": {},
          "execution_count": 10
        }
      ],
      "source": [
        "import numpy as np\n",
        "np.argmax(df)"
      ]
    },
    {
      "cell_type": "markdown",
      "metadata": {
        "id": "OFu-lDbdQJGm"
      },
      "source": [
        "3) Write a Python code to find :\n",
        "\n",
        "a) Largest and smallest number amongst the first 100 numbers.\n",
        "\n",
        "b) Largest and smallest number amongst 101st psoition to 201st position.\n",
        "\n",
        "c) Largest and smallest number in chunks(orderwise viz. 1-100, 101-200, 201-300, so on \n",
        "and so forth...) of 100 numbers taken at a time.\n",
        "\n",
        "d) Find the mean of the two numbers(largest and smallest) in each chunk obtained in the \n"
      ]
    },
    {
      "cell_type": "code",
      "execution_count": null,
      "metadata": {
        "id": "e3cX2rHsQQcD"
      },
      "outputs": [],
      "source": [
        "def max_min(x,y):\n",
        "  a=[]\n",
        "  for i in range(x,y):\n",
        "    a.append(rid[i])\n",
        "  return ((\"max\",np.array(a).max()),(\"min\",np.array(a).min()),(\"Mean\",np.array(a).mean()))"
      ]
    },
    {
      "cell_type": "code",
      "execution_count": null,
      "metadata": {
        "colab": {
          "base_uri": "https://localhost:8080/"
        },
        "id": "augJMTQLRICh",
        "outputId": "52b37aed-de09-4b58-c3dc-0666016cdb04"
      },
      "outputs": [
        {
          "output_type": "execute_result",
          "data": {
            "text/plain": [
              "(('max', 99), ('min', 0), ('Mean', 48.985074626865675))"
            ]
          },
          "metadata": {},
          "execution_count": 12
        }
      ],
      "source": [
        "max_min(100,167)"
      ]
    },
    {
      "cell_type": "markdown",
      "metadata": {
        "id": "uoA3w40bVt6E"
      },
      "source": [
        "4) Write a Python code and Find :\n",
        "\n",
        "a) Number of odd integers.\n",
        "\n",
        "b) Number of even integers.\n",
        "\n",
        "c) the list of odd integers.\n",
        "\n",
        "d) the list of even integers.\n",
        "\n",
        "e) Find the average of the odd integers and the even integers and compare both"
      ]
    },
    {
      "cell_type": "code",
      "execution_count": null,
      "metadata": {
        "id": "YAH0I-WJVVm8"
      },
      "outputs": [],
      "source": [
        "def odd_even(x,y):\n",
        "  odd=[]\n",
        "  odd_count=0\n",
        "  even=[]\n",
        "  even_count=0\n",
        "  for i in range(x,y):\n",
        "    if np.array(rid[i]) % 2 != 0:\n",
        "      odd.append(rid[i])\n",
        "      odd_count+=1\n",
        "    else:\n",
        "      even.append(rid[i])\n",
        "      even_count+=1\n",
        "  return ((\"Odd Integers\",odd),(\"Even Integers\",even),(\"Odd_count\",odd_count),(\"even_count\",even_count))\n"
      ]
    },
    {
      "cell_type": "code",
      "execution_count": null,
      "metadata": {
        "id": "8nJ5YkRSXwP2"
      },
      "outputs": [],
      "source": [
        "#odd_even(100,200)"
      ]
    },
    {
      "cell_type": "markdown",
      "metadata": {
        "id": "XwKzFTZjzQG9"
      },
      "source": [
        "# Lab Assignment 1"
      ]
    },
    {
      "cell_type": "markdown",
      "metadata": {
        "id": "mWMDUdrYzcku"
      },
      "source": [
        "1. Generate n random numbers in the range 0 to 100."
      ]
    },
    {
      "cell_type": "code",
      "execution_count": null,
      "metadata": {
        "colab": {
          "base_uri": "https://localhost:8080/"
        },
        "id": "Z3IwFpkVXmiy",
        "outputId": "f2e1cab5-548f-4e79-f930-b5aa544fbfcb"
      },
      "outputs": [
        {
          "output_type": "stream",
          "name": "stdout",
          "text": [
            "84\n"
          ]
        }
      ],
      "source": [
        "import numpy as np\n",
        "import matplotlib.pyplot as plt\n",
        "random=np.random.choice(100)\n",
        "print(random)"
      ]
    },
    {
      "cell_type": "code",
      "execution_count": null,
      "metadata": {
        "colab": {
          "base_uri": "https://localhost:8080/"
        },
        "id": "pbmqOuI3ZHoO",
        "outputId": "3182b84e-fc8d-4673-dde7-1912366154ab"
      },
      "outputs": [
        {
          "output_type": "stream",
          "name": "stdout",
          "text": [
            "[76, 90, 100, 37, 55, 6, 26, 68, 49, 24, 46, 35, 58, 75, 76, 63, 42, 36, 38, 15, 85, 30, 23, 84, 30, 50, 58, 32, 6, 27, 39, 99, 89, 16, 13, 87, 58, 95, 83, 60, 61, 38, 93, 9, 46, 12, 2, 16, 71, 68, 22, 14, 64, 47, 63, 37, 1, 63, 15, 9, 28, 59, 37, 63, 60, 26, 20, 18, 18, 60, 86, 44, 62, 92, 36, 13, 10, 36, 7, 83, 55, 40, 26, 50, 11, 30, 7, 50, 39, 45, 23, 77, 32, 42, 59, 37, 12, 63, 25, 60]\n"
          ]
        }
      ],
      "source": [
        "import random\n",
        "\n",
        "n = 100\n",
        "random_numbers = []\n",
        "for i in range(n):\n",
        "    random_numbers.append(random.randrange(0, 101))\n",
        "\n",
        "print(random_numbers)"
      ]
    },
    {
      "cell_type": "markdown",
      "metadata": {
        "id": "yv4a93FwQjWJ"
      },
      "source": [
        "2. Display the frequencies of each random number generated in 1 using a bar    graph. \n",
        "\n",
        "   Perform the experiment for n=1000, 2000, 5000.\n"
      ]
    },
    {
      "cell_type": "code",
      "execution_count": null,
      "metadata": {
        "colab": {
          "base_uri": "https://localhost:8080/"
        },
        "id": "rrl-otqwc7Fb",
        "outputId": "0adfd26c-d6f8-4c7b-9d80-8105d165ecb6"
      },
      "outputs": [
        {
          "output_type": "stream",
          "name": "stdout",
          "text": [
            "{3: 2, 9: 1, 6: 1, 7: 1, -3: 2, 2: 1}\n",
            "[2, 1, 1, 1, 2, 1]\n"
          ]
        }
      ],
      "source": [
        "frequency = {}\n",
        "for i in [3,9,6,3,7,-3,2,-3]:\n",
        "    if i in frequency:\n",
        "        frequency[i] += 1\n",
        "    else:\n",
        "        frequency[i] = 1\n",
        "print(frequency)\n",
        "print(list(frequency.values()))"
      ]
    },
    {
      "cell_type": "code",
      "execution_count": null,
      "metadata": {
        "colab": {
          "base_uri": "https://localhost:8080/",
          "height": 351
        },
        "id": "jaxtWOZCcFNQ",
        "outputId": "519f365d-d2ac-4dcf-e48c-aad202892432"
      },
      "outputs": [
        {
          "output_type": "stream",
          "name": "stdout",
          "text": [
            "[31, 70, 43, 14, 6, 93, 99, 54, 19, 8, 41, 51, 27, 26, 61, 12, 10, 79, 26, 62, 63, 86, 6, 18, 0, 94, 87, 45, 92, 44, 25, 46, 15, 72, 47, 36, 53, 98, 87, 5, 81, 45, 69, 30, 63, 38, 41, 27, 90, 41, 44, 78, 21, 4, 74, 68, 60, 41, 16, 76, 89, 38, 70, 7, 20, 6, 86, 71, 16, 74, 82, 66, 0, 7, 41, 22, 29, 95, 16, 25, 73, 89, 96, 74, 20, 36, 75, 58, 32, 93, 4, 84, 68, 71, 54, 95, 25, 100, 21, 64]\n",
            "{31: 1, 70: 2, 43: 1, 14: 1, 6: 3, 93: 2, 99: 1, 54: 2, 19: 1, 8: 1, 41: 5, 51: 1, 27: 2, 26: 2, 61: 1, 12: 1, 10: 1, 79: 1, 62: 1, 63: 2, 86: 2, 18: 1, 0: 2, 94: 1, 87: 2, 45: 2, 92: 1, 44: 2, 25: 3, 46: 1, 15: 1, 72: 1, 47: 1, 36: 2, 53: 1, 98: 1, 5: 1, 81: 1, 69: 1, 30: 1, 38: 2, 90: 1, 78: 1, 21: 2, 4: 2, 74: 3, 68: 2, 60: 1, 16: 3, 76: 1, 89: 2, 7: 2, 20: 2, 71: 2, 82: 1, 66: 1, 22: 1, 29: 1, 95: 2, 73: 1, 96: 1, 75: 1, 58: 1, 32: 1, 84: 1, 100: 1, 64: 1}\n"
          ]
        },
        {
          "output_type": "display_data",
          "data": {
            "text/plain": [
              "<Figure size 432x288 with 1 Axes>"
            ],
            "image/png": "[encoded data removed]"
          },
          "metadata": {
            "needs_background": "light"
          }
        }
      ],
      "source": [
        "import random\n",
        "import matplotlib.pyplot as plt\n",
        "\n",
        "n = 100\n",
        "random_numbers = []\n",
        "for i in range(n):\n",
        "    random_numbers.append(random.randrange(0, 101))\n",
        "\n",
        "print(random_numbers)\n",
        "\n",
        "frequency = {}\n",
        "for i in random_numbers:\n",
        "    if i in frequency:\n",
        "        frequency[i] += 1\n",
        "    else:\n",
        "        frequency[i] = 1\n",
        "print(frequency)\n",
        "x_axis = list(frequency.keys())\n",
        "y_axis = list(frequency.values())\n",
        "\n",
        "plt.bar(range(len(frequency)), y_axis,\n",
        "        tick_label=x_axis, align='edge', width=0.3)\n",
        "plt.xlabel('Random numbers')\n",
        "plt.ylabel('Frequency')\n",
        "plt.title('for n=100')\n",
        "plt.show()"
      ]
    },
    {
      "cell_type": "markdown",
      "metadata": {
        "id": "2GGNC7B5ZtMR"
      },
      "source": [
        "3. Let the number of students in your class be n. Generate a random number from 1 to 365. \n",
        "\n",
        "We will thus have n birthdays. Find the probability that at least two people have the same \n",
        "\n",
        "birthday, denoted by p. For this case do the following by simulating the situation 1000 \n",
        "\n",
        "times:\n",
        "\n",
        "A. Find the probability for n=23, 40, 80, 300 and comment on the probabilities \n",
        "obtained.\n",
        "\n",
        "B. Plot p vs n where n varies from 1 to 300.\n",
        "\n",
        "C. Find the minimum value of n, for which the probability becomes 0.8 or greater.\n"
      ]
    },
    {
      "cell_type": "code",
      "execution_count": null,
      "metadata": {
        "colab": {
          "base_uri": "https://localhost:8080/",
          "height": 385
        },
        "id": "1Y9yJ0wCZ5ib",
        "outputId": "212902ea-c8ac-4abe-efce-b7b24ba05385"
      },
      "outputs": [
        {
          "output_type": "stream",
          "name": "stdout",
          "text": [
            "Probability that atleast 2 people out of 23 people have same birthday:0.535\n",
            "Probability that atleast 2 people out of 40 people have same birthday:0.894\n",
            "Probability that atleast 2 people out of 80 people have same birthday:1.0\n",
            "Probability that atleast 2 people out of 300 people have same birthday:1.0\n"
          ]
        },
        {
          "output_type": "display_data",
          "data": {
            "text/plain": [
              "<Figure size 432x288 with 1 Axes>"
            ],
            "image/png": "[encoded data removed]"
          },
          "metadata": {
            "needs_background": "light"
          }
        },
        {
          "output_type": "stream",
          "name": "stdout",
          "text": [
            "Probability is 0.8 for n = 34\n"
          ]
        }
      ],
      "source": [
        "#importing libraries\n",
        "import random\n",
        "import matplotlib.pyplot as plt\n",
        "\n",
        "#function for calculating probability by generating random numbers\n",
        "def prob(n):\n",
        "    c = 0 #count\n",
        "    #simulate for 1000 times\n",
        "    for i in range(1000):\n",
        "        l = [random.randrange(1, 366) for i in range(n)] #generate random numbers from 1 to 365\n",
        "        for x in l:\n",
        "            if l.count(x) > 1: # condition that atleast two have same birthday\n",
        "                c+=1 #increase the count\n",
        "                break\n",
        "    return c/1000\n",
        "\n",
        "p1 = prob(23)\n",
        "print(f'Probability that atleast 2 people out of 23 people have same birthday:{p1}')\n",
        "p2 = prob(40)\n",
        "print(f'Probability that atleast 2 people out of 40 people have same birthday:{p2}')\n",
        "p3 = prob(80)\n",
        "print(f'Probability that atleast 2 people out of 80 people have same birthday:{p3}')\n",
        "p4 = prob(300)\n",
        "print(f'Probability that atleast 2 people out of 300 people have same birthday:{p4}')\n",
        "\n",
        "p = [] # list for storing probabilities (y-axis for plot)\n",
        "np = [i for i in range(1, 301)] # all numbers in range 1 to 300 (x-axis for plot)\n",
        "# append probabilities by calling the prob function\n",
        "for i in range(1, 301):\n",
        "    p.append(prob(i))\n",
        "\n",
        "#plot using matplotlib\n",
        "plt.plot(np, p)\n",
        "plt.grid()\n",
        "plt.xlabel('n')\n",
        "plt.ylabel('p')\n",
        "plt.title('p vs n')\n",
        "plt.show()\n",
        "\n",
        "#Finding n for p>=0.8\n",
        "for j in range(len(p)):\n",
        "    if p[j]>=0.8:\n",
        "        print(f'Probability is 0.8 for n = {j+1}')\n",
        "        break"
      ]
    },
    {
      "cell_type": "code",
      "source": [
        "def prob(n):\n",
        "    c = 0 #count\n",
        "    #simulate for 10 times\n",
        "    for i in range(10):\n",
        "        l = [random.randrange(1, 366) for i in range(n)] #generate random numbers from 1 to 365\n",
        "        print(l)\n",
        "        for x in l:\n",
        "            if l.count(x) > 1: # condition that atleast two have same birthday\n",
        "                c+=1 #increase the count\n",
        "                break\n",
        "    return c/10\n",
        "\n",
        "p1 = prob(12)\n",
        "print(p1)"
      ],
      "metadata": {
        "colab": {
          "base_uri": "https://localhost:8080/"
        },
        "id": "nlZpN8cHuT2C",
        "outputId": "8cc0faa4-299e-4281-a4bf-1e76f1650bb3"
      },
      "execution_count": null,
      "outputs": [
        {
          "output_type": "stream",
          "name": "stdout",
          "text": [
            "[270, 26, 82, 45, 258, 68, 72, 124, 286, 240, 37, 310]\n",
            "[287, 20, 116, 146, 136, 360, 5, 303, 265, 187, 259, 248]\n",
            "[90, 167, 163, 72, 199, 53, 324, 268, 324, 182, 205, 297]\n",
            "[43, 200, 138, 331, 118, 313, 305, 74, 59, 65, 287, 352]\n",
            "[104, 99, 282, 6, 338, 5, 309, 70, 147, 58, 160, 62]\n",
            "[264, 323, 93, 172, 282, 87, 162, 293, 213, 289, 356, 60]\n",
            "[300, 90, 46, 170, 290, 185, 238, 331, 271, 156, 208, 169]\n",
            "[211, 332, 25, 360, 277, 337, 187, 30, 52, 228, 277, 267]\n",
            "[190, 19, 310, 50, 155, 313, 314, 115, 118, 197, 231, 341]\n",
            "[346, 257, 23, 88, 257, 114, 39, 270, 36, 38, 282, 297]\n",
            "0.3\n"
          ]
        }
      ]
    },
    {
      "cell_type": "code",
      "source": [
        "count=0\n",
        "l1=[1,2,3,3,4,5,5,5,6,7,8,9,5,8]\n",
        "for x in l1:\n",
        "    if l1.count(x) > 1: # condition that atleast two have same birthday\n",
        "        count+=1 #increase the count\n",
        "print(count)\n",
        "        "
      ],
      "metadata": {
        "colab": {
          "base_uri": "https://localhost:8080/"
        },
        "id": "VdYE93ixv7pz",
        "outputId": "9dea65fe-e293-46dd-c1d4-1e1ecb87442e"
      },
      "execution_count": null,
      "outputs": [
        {
          "output_type": "stream",
          "name": "stdout",
          "text": [
            "8\n"
          ]
        }
      ]
    },
    {
      "cell_type": "markdown",
      "metadata": {
        "id": "eMD1eP4HaVgo"
      },
      "source": [
        "4. One Venus day lasts 243 earth days. If n number of people are born on a Venus day, find \n",
        "\n",
        "the probability that they share the same birthday according to the earth days. At some place\n",
        "\n",
        "on Venus there’s sunlight for 122 days and night for 121 days. Assume that a person is \n",
        "\n",
        "twice as likely to be born in daytime than at night. Compare the probabilities for the same \n",
        "\n",
        "values of n=23, 40, 80. Plot p vs n where n varies from 1 to 243. [Hint: use \n",
        "numpy.random.choice to generate random numbers with specified probabilities. Take care \n",
        "\n",
        "that the sum of probabilities should be 1]"
      ]
    },
    {
      "cell_type": "code",
      "source": [
        "d = [i for i in range(1, 244)] #array for storing numbers 1 to 244 (days)\n",
        "l1 = [2/365 for i in range(1, 123)] # probability array for 1-122 days (2/(122*2+121))\n",
        "len(l1)\n",
        "print(d)"
      ],
      "metadata": {
        "colab": {
          "base_uri": "https://localhost:8080/"
        },
        "id": "CGyrX23OArhs",
        "outputId": "e2a80cd3-9162-4995-93b7-c4d294e85377"
      },
      "execution_count": null,
      "outputs": [
        {
          "output_type": "stream",
          "name": "stdout",
          "text": [
            "[1, 2, 3, 4, 5, 6, 7, 8, 9, 10, 11, 12, 13, 14, 15, 16, 17, 18, 19, 20, 21, 22, 23, 24, 25, 26, 27, 28, 29, 30, 31, 32, 33, 34, 35, 36, 37, 38, 39, 40, 41, 42, 43, 44, 45, 46, 47, 48, 49, 50, 51, 52, 53, 54, 55, 56, 57, 58, 59, 60, 61, 62, 63, 64, 65, 66, 67, 68, 69, 70, 71, 72, 73, 74, 75, 76, 77, 78, 79, 80, 81, 82, 83, 84, 85, 86, 87, 88, 89, 90, 91, 92, 93, 94, 95, 96, 97, 98, 99, 100, 101, 102, 103, 104, 105, 106, 107, 108, 109, 110, 111, 112, 113, 114, 115, 116, 117, 118, 119, 120, 121, 122, 123, 124, 125, 126, 127, 128, 129, 130, 131, 132, 133, 134, 135, 136, 137, 138, 139, 140, 141, 142, 143, 144, 145, 146, 147, 148, 149, 150, 151, 152, 153, 154, 155, 156, 157, 158, 159, 160, 161, 162, 163, 164, 165, 166, 167, 168, 169, 170, 171, 172, 173, 174, 175, 176, 177, 178, 179, 180, 181, 182, 183, 184, 185, 186, 187, 188, 189, 190, 191, 192, 193, 194, 195, 196, 197, 198, 199, 200, 201, 202, 203, 204, 205, 206, 207, 208, 209, 210, 211, 212, 213, 214, 215, 216, 217, 218, 219, 220, 221, 222, 223, 224, 225, 226, 227, 228, 229, 230, 231, 232, 233, 234, 235, 236, 237, 238, 239, 240, 241, 242, 243]\n"
          ]
        }
      ]
    },
    {
      "cell_type": "code",
      "execution_count": null,
      "metadata": {
        "colab": {
          "base_uri": "https://localhost:8080/",
          "height": 349
        },
        "id": "s_8duREBaCEU",
        "outputId": "efcaf8fc-aceb-4863-ab4f-dadb8a91681a"
      },
      "outputs": [
        {
          "output_type": "stream",
          "name": "stdout",
          "text": [
            "P(23) = 0.677\n",
            "P(40) = 0.98\n",
            "P(80) = 1.0\n"
          ]
        },
        {
          "output_type": "display_data",
          "data": {
            "text/plain": [
              "<Figure size 432x288 with 1 Axes>"
            ],
            "image/png": "[encoded data removed]"
          },
          "metadata": {
            "needs_background": "light"
          }
        }
      ],
      "source": [
        "#importing libraries\n",
        "import random\n",
        "import matplotlib.pyplot as plt\n",
        "from numpy.random import choice\n",
        "\n",
        "d = [i for i in range(1, 244)] #array for storing numbers 1 to 244 (days)\n",
        "l1 = [2/365 for i in range(1, 123)] # probability array for 1-122 days (2/(122*2+121))\n",
        "\n",
        "# appending probabilities for 123-243 days (1/(122*2+121))\n",
        "for i in range(123, 244):\n",
        "    l1.append(1/365)\n",
        "\n",
        "np, p = [], [] # declaring lists for n and p\n",
        "for i in range(1, 244):\n",
        "    c=0 #count\n",
        "    np.append(i) \n",
        "    # simulate for 1000 times\n",
        "    for j in range(1000):\n",
        "        # generate random numbers from 1-243 with probabilities given by list l1\n",
        "        d1 = choice(d, size = i, p = l1) # numpy.random.choice()\n",
        "        # obtain list from numpy array d1\n",
        "        l = []\n",
        "        for k in range(i):\n",
        "            l.append(d1[k])\n",
        "        for li in l:\n",
        "            if l.count(li) > 1: # condition that atleast two have same birthday\n",
        "                c+=1\n",
        "                break\n",
        "    p.append(c/1000)\n",
        "# Print probabilities for n = 23, 40, 80\n",
        "print(f'P(23) = {p[22]}')\n",
        "print(f'P(40) = {p[39]}')\n",
        "print(f'P(80) = {p[79]}')\n",
        "\n",
        "#plot using matplotlib\n",
        "plt.plot(np, p)\n",
        "plt.grid()\n",
        "plt.xlabel('n')\n",
        "plt.ylabel('p')\n",
        "plt.title('p vs n')\n",
        "plt.show()"
      ]
    },
    {
      "cell_type": "markdown",
      "source": [
        "# ASSIGNMENT 2"
      ],
      "metadata": {
        "id": "rXhHHDe8jr0_"
      }
    },
    {
      "cell_type": "markdown",
      "source": [
        "2. Let there be two unbiased N-sided dice that are thrown once, for instance, a 5-sided dice will \n",
        "have five faces, each having 1, 2, 3, 4, 5 number of dots respectively. Write a general program \n",
        "which takes N as input and give the following outputs,\n",
        "\n",
        "(a) Sample space S = {· · ·}.\n",
        "\n",
        "(b) Event E1 that the sum of the dots on the dice equals N.\n",
        "\n",
        "(c) Event E2 that the dots on the first dice is ⌊N/2⌋, where ⌊·⌋ indicates greatest integer function.\n",
        "\n",
        "(d) Event E3 that the sum of the dots on the dice is greater than N + ⌊N/2⌋, where ⌊·⌋\n",
        "\n",
        "Indicate the greatest integer function.\n",
        "\n",
        "(e) Event E4 = E1 ∩ E3, i.e., when the sum is N and greater than N + ⌊N/2⌋.\n",
        "\n",
        "(f) Probabilities of the events E1, E2, E3, and E4, i.e., P (E1), P (E2), P (E3)\n",
        ", and P (E4).\n",
        "\n",
        "(g) Are events E1 and E2 independent? Also, output whether the events E1 and E3\n",
        "independent."
      ],
      "metadata": {
        "id": "R7wAdvcg_MQ4"
      }
    },
    {
      "cell_type": "code",
      "source": [
        "# A - Sample space S = {· · · }. \n",
        "\n",
        "n = int(input(\"Enter the value of N\"))\n",
        "Sample_Space = set() # To handle the duplicate values\n",
        "for i in range(1,n+1):\n",
        "    for j in range(1,n+1):\n",
        "        if(str(i)+str(j) not in Sample_Space):\n",
        "            Sample_Space.add(str(i)+str(j))\n",
        "            Sample_Space.add(str(j)+str(i))\n",
        "print(\"Sample Space = \",Sample_Space)\n",
        "\n",
        "# B - Event E1 that the sum of the dots on the dice equals N.\n",
        "\n",
        "e1 = set()\n",
        "for i in range(1,n):\n",
        "    e1.add(str(i)+str(n-i))\n",
        "print(\"Sample Space of E1 = \",e1)\n",
        "\n",
        "# C - Event E2 that the dots on the first dice is ⌊N/2⌋, where ⌊·⌋ indicates greatest integer function. \n",
        "\n",
        "import math\n",
        "e2 = set()\n",
        "element = int(math.floor(n/2))\n",
        "print(element)\n",
        "for i in range(1,n+1):\n",
        "    e2.add(str(element)+str(i))\n",
        "print(\"Sample Space of E2 = \",e2)\n",
        "\n",
        "# D - Event E3 that the sum of the dots on the dice is greater than N + ⌊N/2⌋, where ⌊·⌋ indicates greatest integer function. \n",
        "\n",
        "threshold = n + element\n",
        "e3 = set()\n",
        "for i in range(1,n+1):\n",
        "    for j in range(1,n+1):\n",
        "        if(i+j>threshold):\n",
        "            e3.add(str(i)+str(j))\n",
        "            e3.add(str(j)+str(i))\n",
        "print(\"Sample Space of E3 = \",e3)\n",
        "\n",
        "# E - Event E4 = E1 ∩ E3, i.e., when the sum is N and greater than N + ⌊N/2⌋. \n",
        "\n",
        "e4 = None\n",
        "print(\"Sample Space of E4 = NULL\")\n",
        "\n",
        "# F - Probabilities of the events E1, E2, E3, and E4\n",
        "\n",
        "p_e1 = len(e1)/len(Sample_Space)\n",
        "p_e2 = len(e2)/len(Sample_Space)\n",
        "p_e3 = len(e3)/len(Sample_Space)\n",
        "p_e4 = 0\n",
        "print(\"P(E1) = \",p_e1,\"\\nP(E2) = \",p_e2,\"\\nP(E3) = \",p_e3,\"\\nP(E4) = \",p_e4)\n",
        "\n",
        "# G - Are events E1 and E2 independent? Also, output whether the events E1 and E3 independent.\n",
        "\n",
        "e12 = set()\n",
        "for i in range(1,n+1):\n",
        "    for j in range(1,n+1):\n",
        "        if(i==element and i+j==n):\n",
        "            e12.add(str(i)+str(j))\n",
        "p_e12 = len(e12)/len(Sample_Space)\n",
        "if(p_e12 == (p_e1*p_e2)):\n",
        "    print(\"E1 and E2 are : independent\")\n",
        "else:\n",
        "    print(\"E1 and E2 are : dependent\")\n",
        "\n",
        "print(\"E1 and E3 are : independent\") # Because p_e4 = 0 and p_e1 and p_e3 are non zero\n"
      ],
      "metadata": {
        "id": "qGkvEbhzjxcq",
        "colab": {
          "base_uri": "https://localhost:8080/"
        },
        "outputId": "d6335165-2c2c-42fe-a7e2-0af0192f1507"
      },
      "execution_count": null,
      "outputs": [
        {
          "output_type": "stream",
          "name": "stdout",
          "text": [
            "Enter the value of N4\n",
            "Sample Space =  {'22', '23', '43', '13', '33', '11', '31', '14', '44', '42', '12', '24', '41', '34', '21', '32'}\n",
            "Sample Space of E1 =  {'22', '31', '13'}\n",
            "2\n",
            "Sample Space of E2 =  {'22', '23', '24', '21'}\n",
            "Sample Space of E3 =  {'44', '43', '34'}\n",
            "Sample Space of E4 = NULL\n",
            "P(E1) =  0.1875 \n",
            "P(E2) =  0.25 \n",
            "P(E3) =  0.1875 \n",
            "P(E4) =  0\n",
            "E1 and E2 are : dependent\n",
            "E1 and E3 are : independent\n"
          ]
        }
      ]
    },
    {
      "cell_type": "markdown",
      "source": [
        "**Q3** \n",
        "Repeat Question 2 to write a general program which takes N as input to output the parts 2f \n",
        "and 2g without using the probability formulas. Hence, run the simulation K times in a \n",
        "program and compute the probabilities by utilizing the counts of the desired outcomes. In \n",
        "your report, prepare the below table, Table 3, for a fixed N and increasing K to state your \n",
        "observations.\n",
        "\n",
        "See table in ass.."
      ],
      "metadata": {
        "id": "fos00vCo9pgU"
      }
    },
    {
      "cell_type": "code",
      "source": [
        "import random\n",
        "k = int(input(\"Enter the value of K\"))\n",
        "dice1 = []\n",
        "dice2 = []\n",
        "for i in range(k):\n",
        "    dice1.append(random.randint(1,n))\n",
        "    dice2.append(random.randint(1,n))\n",
        "\n",
        "e1 = 0\n",
        "for i in range(k):\n",
        "        if((dice1[i]+dice2[i])==n):\n",
        "            e1+=1\n",
        "\n",
        "e2 = dice1.count(element)\n",
        "\n",
        "e3 = 0\n",
        "for i in range(k):\n",
        "        if((dice1[i]+dice2[i])>(n+element)):\n",
        "            e3+=1\n",
        "\n",
        "e12 = 0\n",
        "for i in range(k):\n",
        "    if(dice1[i]==element and dice1[i]+dice2[i]==n):\n",
        "        e12+=1\n",
        "\n",
        "p_e1 = e1/k\n",
        "p_e2 = e2/k\n",
        "p_e3 = e3/k\n",
        "p_e4 = 0\n",
        "p_e12 = e12/k\n",
        "is_independent12 = \"Dependent\"\n",
        "if(p_e12 == (p_e1*p_e2)):\n",
        "    is_independent12 = \"Independent\"\n",
        "print(\"P(E1) = \",p_e1,\"\\nP(E2) = \",p_e2,\"\\nP(E3) = \",p_e3,\"\\nP(E4) = \",p_e4)\n",
        "print(\"E1 and E2 are : \",is_independent12)\n",
        "print(\"E3 and E4 are : independent\") # As p_e3e4 = 0 and p_e4 = 0\n",
        "\n"
      ],
      "metadata": {
        "colab": {
          "base_uri": "https://localhost:8080/"
        },
        "id": "7zjK-vcQ9sbc",
        "outputId": "c5495f17-6a7f-43c0-8ec4-e2667de1574f"
      },
      "execution_count": null,
      "outputs": [
        {
          "output_type": "stream",
          "name": "stdout",
          "text": [
            "Enter the value of K5\n",
            "P(E1) =  0.2 \n",
            "P(E2) =  0.4 \n",
            "P(E3) =  0.2 \n",
            "P(E4) =  0\n",
            "E1 and E2 are :  Dependent\n",
            "E3 and E4 are : independent\n"
          ]
        }
      ]
    },
    {
      "cell_type": "markdown",
      "source": [
        "# Lab Assignment 4"
      ],
      "metadata": {
        "id": "zeCil1ezoyms"
      }
    },
    {
      "cell_type": "markdown",
      "source": [
        "**Problem 1**"
      ],
      "metadata": {
        "id": "dVm0ChuTp9Ie"
      }
    },
    {
      "cell_type": "code",
      "source": [
        "import math\n",
        "import matplotlib.pyplot as plt\n",
        "\n",
        "#a\n",
        "p = []\n",
        "c = 0\n",
        "for i in range(13):\n",
        "    if i < 6:\n",
        "        p.append(c/36)\n",
        "        c+=1\n",
        "    else:\n",
        "        p.append(c/36)\n",
        "        c-=1\n",
        "\n",
        "prob = sum(p)\n",
        "print('sum of probabilities: ',prob)\n",
        "if round(prob, 2) == 1:\n",
        "    print('Valid')\n",
        "else:\n",
        "    print('Invalid')\n",
        "\n",
        "plt.bar([i for i in range(1, 14)], p)\n",
        "plt.show()\n",
        "\n",
        "#b\n",
        "x = [i for i in range(-1, 21)]\n",
        "y = []\n",
        "for i in x:\n",
        "    if i < 1 or i>13:\n",
        "        y.append(0)\n",
        "    else:\n",
        "        s = sum(p[:(i - 1)])\n",
        "        y.append(s)\n",
        "\n",
        "plt.bar(x, y)\n",
        "plt.show()\n",
        "\n",
        "print('F(pi) = ', y[x.index(math.ceil(math.pi))])\n",
        "print('F(sqrt(30)) = ', y[x.index(math.ceil(math.sqrt(30)))])"
      ],
      "metadata": {
        "id": "ZwMIGZnGOYvZ",
        "colab": {
          "base_uri": "https://localhost:8080/",
          "height": 915
        },
        "outputId": "b2ccfdec-9593-4fc9-bda7-668cda18c72d"
      },
      "execution_count": null,
      "outputs": [
        {
          "output_type": "stream",
          "name": "stdout",
          "text": [
            "sum of probabilities:  1.0000000000000002\n",
            "Valid\n"
          ]
        },
        {
          "output_type": "display_data",
          "data": {
            "text/plain": [
              "<Figure size 640x480 with 1 Axes>"
            ],
            "image/png": "[encoded data removed]"
          },
          "metadata": {}
        },
        {
          "output_type": "display_data",
          "data": {
            "text/plain": [
              "<Figure size 640x480 with 1 Axes>"
            ],
            "image/png": "[encoded data removed]"
          },
          "metadata": {}
        },
        {
          "output_type": "stream",
          "name": "stdout",
          "text": [
            "F(pi) =  0.08333333333333333\n",
            "F(sqrt(30)) =  0.2777777777777778\n"
          ]
        }
      ]
    },
    {
      "cell_type": "markdown",
      "source": [
        "**Problem**"
      ],
      "metadata": {
        "id": "YJrlLE6vqBd5"
      }
    },
    {
      "cell_type": "code",
      "source": [
        "import math\n",
        "import matplotlib.pyplot as plt\n",
        "\n",
        "def prob(n, x, p):\n",
        "    r = int((n + x)/2)\n",
        "    return math.comb(n, r) * math.pow(p, r) * math.pow(1-p, n-r)\n",
        "\n",
        "def list_p(n, p):\n",
        "    l = []\n",
        "    a = []\n",
        "    for x in range(-n, n+1, 2):\n",
        "        a.append(x)\n",
        "        l.append(prob(n, x, p))\n",
        "    return a, l\n",
        "\n",
        "def dis(n, p):\n",
        "    l = []\n",
        "    a = []\n",
        "    s = 0\n",
        "    for x in range(-n, n+1, 2):\n",
        "        a.append(x)\n",
        "        s+=prob(n, x, p)\n",
        "        l.append(s)\n",
        "    return a, l\n",
        "\n",
        "def check(n, p):\n",
        "    x, y = list_p(n, p)\n",
        "    s = sum(y)\n",
        "    print(f'For n = {n} and p = {p}')\n",
        "    if round(s, 2) == 1:\n",
        "        print('Valid PMF, sum = ', s)\n",
        "    else:\n",
        "        print('Invalid PMF, sum = ', s)\n",
        "\n",
        "#p= q\n",
        "check(5, 0.5)\n",
        "check(10, 0.5)\n",
        "\n",
        "x, y = list_p(5, 0.5)\n",
        "plt.bar(x, y)\n",
        "plt.show()\n",
        "\n",
        "x, y = list_p(10, 0.5)\n",
        "plt.bar(x, y)\n",
        "plt.show()\n",
        "\n",
        "x, y = dis(10, 0.5)\n",
        "plt.bar(x, y)\n",
        "plt.show()\n",
        "\n",
        "x, y = dis(10, 0.5)\n",
        "plt.bar(x, y)\n",
        "plt.show()\n",
        "\n",
        "#p!=q\n",
        "\n",
        "check(5, 0.7)\n",
        "check(10, 0.7)\n",
        "\n",
        "x, y = list_p(5, 0.7)\n",
        "plt.bar(x, y)\n",
        "plt.show()\n",
        "\n",
        "x, y = list_p(10, 0.7)\n",
        "plt.bar(x, y)\n",
        "plt.show()\n",
        "\n",
        "x, y = dis(10, 0.7)\n",
        "plt.bar(x, y)\n",
        "plt.show()\n",
        "\n",
        "x, y = dis(10, 0.7)\n",
        "plt.bar(x, y)\n",
        "plt.show()"
      ],
      "metadata": {
        "colab": {
          "base_uri": "https://localhost:8080/",
          "height": 1000
        },
        "id": "jxHAx9dhpg6C",
        "outputId": "903a7226-f343-40f4-e5ba-ea114429cc22"
      },
      "execution_count": null,
      "outputs": [
        {
          "output_type": "stream",
          "name": "stdout",
          "text": [
            "For n = 5 and p = 0.5\n",
            "Valid PMF, sum =  1.0\n",
            "For n = 10 and p = 0.5\n",
            "Valid PMF, sum =  1.0\n"
          ]
        },
        {
          "output_type": "display_data",
          "data": {
            "text/plain": [
              "<Figure size 640x480 with 1 Axes>"
            ],
            "image/png": "[encoded data removed]"
          },
          "metadata": {}
        },
        {
          "output_type": "display_data",
          "data": {
            "text/plain": [
              "<Figure size 640x480 with 1 Axes>"
            ],
            "image/png": "[encoded data removed]"
          },
          "metadata": {}
        },
        {
          "output_type": "display_data",
          "data": {
            "text/plain": [
              "<Figure size 640x480 with 1 Axes>"
            ],
            "image/png": "[encoded data removed]"
          },
          "metadata": {}
        },
        {
          "output_type": "display_data",
          "data": {
            "text/plain": [
              "<Figure size 640x480 with 1 Axes>"
            ],
            "image/png": "[encoded data removed]"
          },
          "metadata": {}
        },
        {
          "output_type": "stream",
          "name": "stdout",
          "text": [
            "For n = 5 and p = 0.7\n",
            "Valid PMF, sum =  1.0\n",
            "For n = 10 and p = 0.7\n",
            "Valid PMF, sum =  0.9999999999999999\n"
          ]
        },
        {
          "output_type": "display_data",
          "data": {
            "text/plain": [
              "<Figure size 640x480 with 1 Axes>"
            ],
            "image/png": "[encoded data removed]"
          },
          "metadata": {}
        },
        {
          "output_type": "display_data",
          "data": {
            "text/plain": [
              "<Figure size 640x480 with 1 Axes>"
            ],
            "image/png": "[encoded data removed]"
          },
          "metadata": {}
        },
        {
          "output_type": "display_data",
          "data": {
            "text/plain": [
              "<Figure size 640x480 with 1 Axes>"
            ],
            "image/png": "[encoded data removed]"
          },
          "metadata": {}
        },
        {
          "output_type": "display_data",
          "data": {
            "text/plain": [
              "<Figure size 640x480 with 1 Axes>"
            ],
            "image/png": "[encoded data removed]"
          },
          "metadata": {}
        }
      ]
    }
  ],
  "metadata": {
    "colab": {
      "provenance": []
    },
    "kernelspec": {
      "display_name": "Python 3",
      "name": "python3"
    },
    "language_info": {
      "name": "python"
    }
  },
  "nbformat": 4,
  "nbformat_minor": 0
}